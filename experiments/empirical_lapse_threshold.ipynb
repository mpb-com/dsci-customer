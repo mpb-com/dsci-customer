{
 "cells": [
  {
   "cell_type": "code",
   "execution_count": 1,
   "id": "a97d8e8d",
   "metadata": {},
   "outputs": [
    {
     "name": "stderr",
     "output_type": "stream",
     "text": [
      "/Users/anthonybeech/python/dsci/ltv/.venv/lib/python3.12/site-packages/google/auth/_default.py:76: UserWarning: Your application has authenticated using end user credentials from Google Cloud SDK without a quota project. You might receive a \"quota exceeded\" or \"API not enabled\" error. See the following page for troubleshooting: https://cloud.google.com/docs/authentication/adc-troubleshooting/user-creds. \n",
      "  warnings.warn(_CLOUD_SDK_CREDENTIALS_WARNING)\n"
     ]
    }
   ],
   "source": [
    "from src.utils.bq import BQ\n",
    "from google.cloud import bigquery\n",
    "\n",
    "# Initialize BigQuery connection\n",
    "bq = BQ()\n",
    "\n",
    "# Get transaction data - FIXED QUERY\n",
    "TRANSACTION_QUERY = \"\"\"\n",
    "WITH base AS (\n",
    "  SELECT\n",
    "    customer_id,\n",
    "    case when market = 'us' then 'US'\n",
    "    when market = 'uk' then 'UK'\n",
    "    else 'EU' end as market,\n",
    "    transaction_completed_datetime\n",
    "  FROM `mpb-data-science-dev-ab-602d.dsci_daw.STV`\n",
    "  WHERE transaction_state = 'COMPLETED'\n",
    "    AND transaction_completed_datetime IS NOT NULL\n",
    "),\n",
    "first_two AS (\n",
    "  SELECT\n",
    "    customer_id,\n",
    "    market,\n",
    "    ARRAY_AGG(transaction_completed_datetime ORDER BY transaction_completed_datetime) AS txns\n",
    "  FROM base\n",
    "  GROUP BY customer_id, market\n",
    ")\n",
    "SELECT\n",
    "  customer_id,\n",
    "  market,\n",
    "  DATE(txns[OFFSET(0)]) AS first_txn_date,\n",
    "  CASE \n",
    "    WHEN ARRAY_LENGTH(txns) >= 2 THEN\n",
    "      DATE_DIFF(DATE(txns[OFFSET(1)]), DATE(txns[OFFSET(0)]), DAY)\n",
    "    ELSE 0\n",
    "  END AS days_between_first_and_second\n",
    "FROM first_two;\n",
    "\"\"\"\n",
    "\n",
    "job_config = bigquery.QueryJobConfig()\n",
    "dtypes = {\n",
    "    'customer_id': 'int32',\n",
    "    'market': 'string',\n",
    "    'first_txn_date': 'datetime64[ns]',\n",
    "    'days_between_first_and_second': 'int32'\n",
    "}\n",
    "\n",
    "df = bq.to_dataframe(TRANSACTION_QUERY, job_config=job_config, dtypes=dtypes)"
   ]
  },
  {
   "cell_type": "code",
   "execution_count": null,
   "id": "25d17580",
   "metadata": {},
   "outputs": [],
   "source": []
  }
 ],
 "metadata": {
  "kernelspec": {
   "display_name": ".venv",
   "language": "python",
   "name": "python3"
  },
  "language_info": {
   "codemirror_mode": {
    "name": "ipython",
    "version": 3
   },
   "file_extension": ".py",
   "mimetype": "text/x-python",
   "name": "python",
   "nbconvert_exporter": "python",
   "pygments_lexer": "ipython3",
   "version": "3.12.7"
  }
 },
 "nbformat": 4,
 "nbformat_minor": 5
}
