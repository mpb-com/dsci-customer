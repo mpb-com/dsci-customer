{
 "cells": [
  {
   "cell_type": "markdown",
   "id": "6163594f",
   "metadata": {},
   "source": [
    "# Propensity to Lapse: Options in an Infrequent Purchase Context\n",
    "\n",
    "Main notebook documenting requirements, research, key findings, references and outcomes"
   ]
  },
  {
   "cell_type": "markdown",
   "id": "76b6082c",
   "metadata": {},
   "source": [
    "## Summary\n",
    "\n",
    "The aim of ‘propensity to lapse’ is to understand who in our customer base is ‘active’, ‘lapsing’ or ‘lost’. This enables us to communicate differently to customers with these different attributes. The propensity to lapse output needs to be calculated at an individual level as opposed to at group level. The output should be a **single categorical value against each customer record.**\n",
    "\n",
    "It has been agreed with stakeholders that **two** segmentations will be created serving different use cases\n",
    "* Transactional - focussing exclusively on propensity to lapse in the transactional context\n",
    "* Behavioural - platform based engagement\n"
   ]
  },
  {
   "cell_type": "markdown",
   "id": "2a09741f",
   "metadata": {},
   "source": [
    "## Requirements\n",
    "\n",
    "* Single catagorical value against each customer record \n",
    "  * active\n",
    "  * lapsing\n",
    "  * lost\n",
    "* Must be reproducable in an automated way if required"
   ]
  },
  {
   "cell_type": "markdown",
   "id": "452932f0",
   "metadata": {},
   "source": [
    "## Options\n",
    "\n",
    "* Rule Based Segmentation:\n",
    "  * Calculate purchase frequency. Compare to time since last transaction.\n",
    "* Cohort Based:\n",
    "  * Group customers by aquisition date. Compare individual to cohort.\n",
    "* BTYD Modelling with `lifetimes` package\n",
    "  * Generate a probability of life based on transactions (requires at least 2)\n",
    "* BTYD + Covariates:\n",
    "  * As above but includes seasonality, external factors, Tenure effect (transactions more regular when first aquired), Cohort Shifts (Groups aquired at different dates can behave differently)\n",
    "* Survival Analysis (Optional Covariates) `lifelines`, `scikit-survival` packages:\n",
    "  * Estiamtes probability of custoemr lapsing and when\n"
   ]
  },
  {
   "cell_type": "markdown",
   "id": "7bf10fe0",
   "metadata": {},
   "source": [
    "## Key Data\n",
    "\n",
    "* Legacy Theta datasets: `mpb-platform-prod-f68e.theta_data_to_MPB` (use V2 data!)\n"
   ]
  },
  {
   "cell_type": "markdown",
   "id": "9373cc2c",
   "metadata": {},
   "source": [
    "## Thoughts\n",
    "\n",
    "* Do we have access to catagorical data about customers? I assume not\n",
    "* Would we want to classify customers with less than 2 transactions at all?\n",
    "  * Maybe we assume active? Depends on definition\n",
    "* How to evaluate performance? \n",
    "  * Train on historical data and see if predictions are accurate, CV etc.\n",
    "  * Need to be careful of leakage in time\n",
    "* How much data do we have (yrs)\n",
    "* What is our defintion of lapsing, lost in terms of time?\n",
    "   * 9 months / 15 months?\n"
   ]
  },
  {
   "cell_type": "markdown",
   "id": "fbf49c14",
   "metadata": {},
   "source": [
    "## References\n",
    "\n",
    "* [Propensity to Lapse Kick off Slides](https://docs.google.com/presentation/d/179-C5yNzVS4nNXA_CbQMXH8GeMVuTY9nrZhiqoA1vOs/edit?slide=id.g370e1de7d7d_0_3#slide=id.g370e1de7d7d_0_3)\n",
    "* [Options for approaches PtL Doc](https://docs.google.com/document/d/1ZJEun7c_fys9jN0EfnKOlXg8tthy1ArEfVPX_AJT86I/edit?tab=t.0)\n",
    "* [Theta on CLV and ML Video](https://4634547.hs-sites.com/share/hubspotvideo/194067088397?utm_campaign=General&utm_medium=email&_hsenc=p2ANqtz-_eYBqy8-3U4YXMu1LaJqdalfo9lsuAElhOUYz4F9cDF1tcQDs6WmwKDzIzrVC8JBkcO_DOfHEBiqni60GK2fje8VYl2Q&_hsmi=374791551&utm_content=374791551&utm_source=hs_email)\n"
   ]
  },
  {
   "cell_type": "markdown",
   "id": "d85c0845",
   "metadata": {},
   "source": []
  }
 ],
 "metadata": {
  "kernelspec": {
   "display_name": ".venv",
   "language": "python",
   "name": "python3"
  },
  "language_info": {
   "name": "python",
   "version": "3.12.7"
  }
 },
 "nbformat": 4,
 "nbformat_minor": 5
}
